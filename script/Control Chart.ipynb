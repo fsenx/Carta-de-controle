{
 "cells": [
  {
   "cell_type": "markdown",
   "metadata": {},
   "source": [
    "# Control Chart"
   ]
  },
  {
   "cell_type": "code",
   "execution_count": 1,
   "metadata": {},
   "outputs": [],
   "source": [
    "import pandas as pd\n",
    "import numpy as np\n",
    "import math\n",
    "from math import sqrt\n",
    "import matplotlib.pyplot as plt"
   ]
  },
  {
   "cell_type": "code",
   "execution_count": 2,
   "metadata": {},
   "outputs": [],
   "source": [
    "df = pd.read_csv(\"RotorHistoricalData.csv\")"
   ]
  },
  {
   "cell_type": "code",
   "execution_count": 3,
   "metadata": {
    "scrolled": true
   },
   "outputs": [
    {
     "data": {
      "text/html": [
       "<div>\n",
       "<style scoped>\n",
       "    .dataframe tbody tr th:only-of-type {\n",
       "        vertical-align: middle;\n",
       "    }\n",
       "\n",
       "    .dataframe tbody tr th {\n",
       "        vertical-align: top;\n",
       "    }\n",
       "\n",
       "    .dataframe thead th {\n",
       "        text-align: right;\n",
       "    }\n",
       "</style>\n",
       "<table border=\"1\" class=\"dataframe\">\n",
       "  <thead>\n",
       "    <tr style=\"text-align: right;\">\n",
       "      <th></th>\n",
       "      <th>Rotor</th>\n",
       "      <th>Instrumento</th>\n",
       "      <th>Operador</th>\n",
       "      <th>Salto de Lâmina</th>\n",
       "    </tr>\n",
       "  </thead>\n",
       "  <tbody>\n",
       "    <tr>\n",
       "      <th>0</th>\n",
       "      <td>1</td>\n",
       "      <td>1</td>\n",
       "      <td>1</td>\n",
       "      <td>31.08</td>\n",
       "    </tr>\n",
       "    <tr>\n",
       "      <th>1</th>\n",
       "      <td>2</td>\n",
       "      <td>1</td>\n",
       "      <td>2</td>\n",
       "      <td>30.85</td>\n",
       "    </tr>\n",
       "    <tr>\n",
       "      <th>2</th>\n",
       "      <td>3</td>\n",
       "      <td>1</td>\n",
       "      <td>3</td>\n",
       "      <td>31.08</td>\n",
       "    </tr>\n",
       "    <tr>\n",
       "      <th>3</th>\n",
       "      <td>4</td>\n",
       "      <td>1</td>\n",
       "      <td>1</td>\n",
       "      <td>30.86</td>\n",
       "    </tr>\n",
       "    <tr>\n",
       "      <th>4</th>\n",
       "      <td>5</td>\n",
       "      <td>1</td>\n",
       "      <td>2</td>\n",
       "      <td>30.87</td>\n",
       "    </tr>\n",
       "    <tr>\n",
       "      <th>5</th>\n",
       "      <td>6</td>\n",
       "      <td>1</td>\n",
       "      <td>3</td>\n",
       "      <td>31.05</td>\n",
       "    </tr>\n",
       "    <tr>\n",
       "      <th>6</th>\n",
       "      <td>7</td>\n",
       "      <td>1</td>\n",
       "      <td>1</td>\n",
       "      <td>31.06</td>\n",
       "    </tr>\n",
       "    <tr>\n",
       "      <th>7</th>\n",
       "      <td>8</td>\n",
       "      <td>1</td>\n",
       "      <td>2</td>\n",
       "      <td>31.08</td>\n",
       "    </tr>\n",
       "    <tr>\n",
       "      <th>8</th>\n",
       "      <td>9</td>\n",
       "      <td>1</td>\n",
       "      <td>3</td>\n",
       "      <td>31.10</td>\n",
       "    </tr>\n",
       "    <tr>\n",
       "      <th>9</th>\n",
       "      <td>10</td>\n",
       "      <td>1</td>\n",
       "      <td>1</td>\n",
       "      <td>31.15</td>\n",
       "    </tr>\n",
       "    <tr>\n",
       "      <th>10</th>\n",
       "      <td>11</td>\n",
       "      <td>1</td>\n",
       "      <td>2</td>\n",
       "      <td>30.94</td>\n",
       "    </tr>\n",
       "    <tr>\n",
       "      <th>11</th>\n",
       "      <td>12</td>\n",
       "      <td>1</td>\n",
       "      <td>3</td>\n",
       "      <td>30.90</td>\n",
       "    </tr>\n",
       "    <tr>\n",
       "      <th>12</th>\n",
       "      <td>13</td>\n",
       "      <td>1</td>\n",
       "      <td>1</td>\n",
       "      <td>31.10</td>\n",
       "    </tr>\n",
       "    <tr>\n",
       "      <th>13</th>\n",
       "      <td>14</td>\n",
       "      <td>1</td>\n",
       "      <td>2</td>\n",
       "      <td>30.83</td>\n",
       "    </tr>\n",
       "    <tr>\n",
       "      <th>14</th>\n",
       "      <td>15</td>\n",
       "      <td>1</td>\n",
       "      <td>3</td>\n",
       "      <td>31.05</td>\n",
       "    </tr>\n",
       "    <tr>\n",
       "      <th>15</th>\n",
       "      <td>16</td>\n",
       "      <td>2</td>\n",
       "      <td>1</td>\n",
       "      <td>31.16</td>\n",
       "    </tr>\n",
       "    <tr>\n",
       "      <th>16</th>\n",
       "      <td>17</td>\n",
       "      <td>2</td>\n",
       "      <td>2</td>\n",
       "      <td>30.95</td>\n",
       "    </tr>\n",
       "    <tr>\n",
       "      <th>17</th>\n",
       "      <td>18</td>\n",
       "      <td>2</td>\n",
       "      <td>3</td>\n",
       "      <td>30.75</td>\n",
       "    </tr>\n",
       "    <tr>\n",
       "      <th>18</th>\n",
       "      <td>19</td>\n",
       "      <td>2</td>\n",
       "      <td>1</td>\n",
       "      <td>30.88</td>\n",
       "    </tr>\n",
       "    <tr>\n",
       "      <th>19</th>\n",
       "      <td>20</td>\n",
       "      <td>2</td>\n",
       "      <td>2</td>\n",
       "      <td>30.87</td>\n",
       "    </tr>\n",
       "    <tr>\n",
       "      <th>20</th>\n",
       "      <td>21</td>\n",
       "      <td>2</td>\n",
       "      <td>3</td>\n",
       "      <td>30.83</td>\n",
       "    </tr>\n",
       "    <tr>\n",
       "      <th>21</th>\n",
       "      <td>22</td>\n",
       "      <td>2</td>\n",
       "      <td>1</td>\n",
       "      <td>30.78</td>\n",
       "    </tr>\n",
       "    <tr>\n",
       "      <th>22</th>\n",
       "      <td>23</td>\n",
       "      <td>2</td>\n",
       "      <td>2</td>\n",
       "      <td>30.70</td>\n",
       "    </tr>\n",
       "    <tr>\n",
       "      <th>23</th>\n",
       "      <td>24</td>\n",
       "      <td>2</td>\n",
       "      <td>3</td>\n",
       "      <td>30.80</td>\n",
       "    </tr>\n",
       "    <tr>\n",
       "      <th>24</th>\n",
       "      <td>25</td>\n",
       "      <td>2</td>\n",
       "      <td>1</td>\n",
       "      <td>31.15</td>\n",
       "    </tr>\n",
       "    <tr>\n",
       "      <th>25</th>\n",
       "      <td>26</td>\n",
       "      <td>2</td>\n",
       "      <td>2</td>\n",
       "      <td>30.80</td>\n",
       "    </tr>\n",
       "    <tr>\n",
       "      <th>26</th>\n",
       "      <td>27</td>\n",
       "      <td>2</td>\n",
       "      <td>3</td>\n",
       "      <td>30.85</td>\n",
       "    </tr>\n",
       "    <tr>\n",
       "      <th>27</th>\n",
       "      <td>28</td>\n",
       "      <td>2</td>\n",
       "      <td>1</td>\n",
       "      <td>30.90</td>\n",
       "    </tr>\n",
       "    <tr>\n",
       "      <th>28</th>\n",
       "      <td>29</td>\n",
       "      <td>2</td>\n",
       "      <td>2</td>\n",
       "      <td>30.83</td>\n",
       "    </tr>\n",
       "    <tr>\n",
       "      <th>29</th>\n",
       "      <td>30</td>\n",
       "      <td>2</td>\n",
       "      <td>3</td>\n",
       "      <td>30.90</td>\n",
       "    </tr>\n",
       "  </tbody>\n",
       "</table>\n",
       "</div>"
      ],
      "text/plain": [
       "    Rotor  Instrumento  Operador Salto de Lâmina\n",
       "0       1            1         1           31.08\n",
       "1       2            1         2           30.85\n",
       "2       3            1         3           31.08\n",
       "3       4            1         1           30.86\n",
       "4       5            1         2           30.87\n",
       "5       6            1         3           31.05\n",
       "6       7            1         1           31.06\n",
       "7       8            1         2           31.08\n",
       "8       9            1         3           31.10\n",
       "9      10            1         1           31.15\n",
       "10     11            1         2           30.94\n",
       "11     12            1         3           30.90\n",
       "12     13            1         1           31.10\n",
       "13     14            1         2           30.83\n",
       "14     15            1         3           31.05\n",
       "15     16            2         1           31.16\n",
       "16     17            2         2           30.95\n",
       "17     18            2         3           30.75\n",
       "18     19            2         1           30.88\n",
       "19     20            2         2           30.87\n",
       "20     21            2         3           30.83\n",
       "21     22            2         1           30.78\n",
       "22     23            2         2           30.70\n",
       "23     24            2         3           30.80\n",
       "24     25            2         1           31.15\n",
       "25     26            2         2           30.80\n",
       "26     27            2         3           30.85\n",
       "27     28            2         1           30.90\n",
       "28     29            2         2           30.83\n",
       "29     30            2         3           30.90"
      ]
     },
     "execution_count": 3,
     "metadata": {},
     "output_type": "execute_result"
    }
   ],
   "source": [
    "df['Salto de Lâmina'] = (df['Salto de Lâmina'].str.replace(',','.'))\n",
    "df"
   ]
  },
  {
   "cell_type": "code",
   "execution_count": 4,
   "metadata": {},
   "outputs": [],
   "source": [
    "dados = df['Salto de Lâmina']"
   ]
  },
  {
   "cell_type": "code",
   "execution_count": 5,
   "metadata": {},
   "outputs": [
    {
     "data": {
      "text/plain": [
       "0     31.08\n",
       "1     30.85\n",
       "2     31.08\n",
       "3     30.86\n",
       "4     30.87\n",
       "5     31.05\n",
       "6     31.06\n",
       "7     31.08\n",
       "8     31.10\n",
       "9     31.15\n",
       "10    30.94\n",
       "11    30.90\n",
       "12    31.10\n",
       "13    30.83\n",
       "14    31.05\n",
       "15    31.16\n",
       "16    30.95\n",
       "17    30.75\n",
       "18    30.88\n",
       "19    30.87\n",
       "20    30.83\n",
       "21    30.78\n",
       "22    30.70\n",
       "23    30.80\n",
       "24    31.15\n",
       "25    30.80\n",
       "26    30.85\n",
       "27    30.90\n",
       "28    30.83\n",
       "29    30.90\n",
       "Name: Salto de Lâmina, dtype: object"
      ]
     },
     "execution_count": 5,
     "metadata": {},
     "output_type": "execute_result"
    }
   ],
   "source": [
    "dados = dados.replace('3','1')\n",
    "dados"
   ]
  },
  {
   "cell_type": "code",
   "execution_count": null,
   "metadata": {},
   "outputs": [],
   "source": []
  },
  {
   "cell_type": "code",
   "execution_count": 6,
   "metadata": {},
   "outputs": [
    {
     "data": {
      "text/plain": [
       "30.9"
      ]
     },
     "execution_count": 6,
     "metadata": {},
     "output_type": "execute_result"
    }
   ],
   "source": [
    "df['Salto de Lâmina'].median()"
   ]
  },
  {
   "cell_type": "code",
   "execution_count": 7,
   "metadata": {},
   "outputs": [],
   "source": [
    "df['Salto de Lâmina'] = df['Salto de Lâmina'].astype(float)"
   ]
  },
  {
   "cell_type": "code",
   "execution_count": 8,
   "metadata": {},
   "outputs": [
    {
     "data": {
      "text/plain": [
       "[array([31.08, 30.85, 31.08, 30.86, 30.87, 31.05, 31.06, 31.08, 31.1 ,\n",
       "        31.15]),\n",
       " array([30.94, 30.9 , 31.1 , 30.83, 31.05, 31.16, 30.95, 30.75, 30.88,\n",
       "        30.87]),\n",
       " array([30.83, 30.78, 30.7 , 30.8 , 31.15, 30.8 , 30.85, 30.9 , 30.83,\n",
       "        30.9 ])]"
      ]
     },
     "execution_count": 8,
     "metadata": {},
     "output_type": "execute_result"
    }
   ],
   "source": [
    "x = np.split(df['Salto de Lâmina'].values,3)\n",
    "x"
   ]
  },
  {
   "cell_type": "code",
   "execution_count": 9,
   "metadata": {},
   "outputs": [],
   "source": [
    "amostra1 = []\n",
    "amostra2 = []\n",
    "amostra3 = []\n",
    "amostra4 = []\n",
    "amostra5 = []\n",
    "amostra6 = []\n",
    "amostra7 = []\n",
    "amostra8 = []\n",
    "amostra9 = []\n",
    "amostra10 = []\n",
    "\n",
    "for c in range(0,3):\n",
    "    amostra1.append(x[c][0])\n",
    "    amostra2.append(x[c][1])\n",
    "    amostra3.append(x[c][2])\n",
    "    amostra4.append(x[c][3])\n",
    "    amostra5.append(x[c][4])\n",
    "    amostra6.append(x[c][5])\n",
    "    amostra7.append(x[c][6])\n",
    "    amostra8.append(x[c][7])\n",
    "    amostra9.append(x[c][8])\n",
    "    amostra10.append(x[c][9])\n",
    "\n",
    "medias = []\n",
    "medias.append(sum(amostra1)/3)\n",
    "medias.append(sum(amostra2)/3)\n",
    "medias.append(sum(amostra3)/3)\n",
    "medias.append(sum(amostra4)/3)\n",
    "medias.append(sum(amostra5)/3)\n",
    "medias.append(sum(amostra6)/3)\n",
    "medias.append(sum(amostra7)/3)\n",
    "medias.append(sum(amostra8)/3)\n",
    "medias.append(sum(amostra9)/3)\n",
    "medias.append(sum(amostra10)/3)\n",
    "\n",
    "amplitudes = []\n",
    "amplitudes.append(max(amostra1) - min(amostra1))\n",
    "amplitudes.append(max(amostra2) - min(amostra2))\n",
    "amplitudes.append(max(amostra3) - min(amostra3))\n",
    "amplitudes.append(max(amostra4) - min(amostra4))\n",
    "amplitudes.append(max(amostra5) - min(amostra5))\n",
    "amplitudes.append(max(amostra6) - min(amostra6))\n",
    "amplitudes.append(max(amostra7) - min(amostra7))\n",
    "amplitudes.append(max(amostra8) - min(amostra8))\n",
    "amplitudes.append(max(amostra9) - min(amostra9))\n",
    "amplitudes.append(max(amostra10) - min(amostra10))"
   ]
  },
  {
   "cell_type": "code",
   "execution_count": 10,
   "metadata": {},
   "outputs": [],
   "source": [
    "x_barra = sum(medias)/10\n",
    "r = sum(amplitudes)/10\n",
    "n = 3"
   ]
  },
  {
   "cell_type": "code",
   "execution_count": 11,
   "metadata": {},
   "outputs": [
    {
     "data": {
      "text/plain": [
       "(30.938333333333333, 0.2559999999999992)"
      ]
     },
     "execution_count": 11,
     "metadata": {},
     "output_type": "execute_result"
    }
   ],
   "source": [
    "x_barra, r"
   ]
  },
  {
   "cell_type": "code",
   "execution_count": 12,
   "metadata": {},
   "outputs": [],
   "source": [
    "o = r/1.693"
   ]
  },
  {
   "cell_type": "code",
   "execution_count": 13,
   "metadata": {},
   "outputs": [],
   "source": [
    "from math import sqrt\n",
    "lsc = x_barra + ((3*o)/sqrt(n))\n",
    "lic = x_barra - ((3*o)/sqrt(n))"
   ]
  },
  {
   "cell_type": "code",
   "execution_count": 14,
   "metadata": {},
   "outputs": [
    {
     "data": {
      "text/plain": [
       "[<matplotlib.lines.Line2D at 0x1eb08d3bb20>]"
      ]
     },
     "execution_count": 14,
     "metadata": {},
     "output_type": "execute_result"
    },
    {
     "data": {
      "image/png": "[encoded data removed]",
      "text/plain": [
       "<Figure size 432x288 with 1 Axes>"
      ]
     },
     "metadata": {
      "needs_background": "light"
     },
     "output_type": "display_data"
    }
   ],
   "source": [
    "import matplotlib\n",
    "plt.plot(np.arange(0,10),medias,'go')\n",
    "plt.plot(np.arange(0,10),medias,'k')"
   ]
  },
  {
   "cell_type": "code",
   "execution_count": 15,
   "metadata": {},
   "outputs": [
    {
     "data": {
      "text/plain": [
       "Text(0.5, 1.0, 'Limite de Controle da Média (3o)')"
      ]
     },
     "execution_count": 15,
     "metadata": {},
     "output_type": "execute_result"
    },
    {
     "data": {
      "image/png": "[encoded data removed]",
      "text/plain": [
       "<Figure size 432x288 with 1 Axes>"
      ]
     },
     "metadata": {
      "needs_background": "light"
     },
     "output_type": "display_data"
    }
   ],
   "source": [
    "fig, ax = plt.subplots() \n",
    "\n",
    "plt.plot(np.arange(0,10),medias,'go')\n",
    "plt.plot(np.arange(0,10),medias,'k')\n",
    "\n",
    "ax.set_ylabel('X_barra')\n",
    "ax.set_xlabel('Amostras')\n",
    "\n",
    "plt.plot([lsc]*10, 'g--', label=f'LSC {round(lsc,2)}')\n",
    "plt.plot([x_barra]*10, 'k--', label=f'LM {round(x_barra,2)}')\n",
    "plt.plot([lic]*10, 'b--', label=f'LIC {round(lic,2)}')\n",
    "\n",
    "ax.legend(loc='best', bbox_to_anchor=(1,1), shadow=True, ncol=1)\n",
    "\n",
    "plt.title(\"Limite de Controle da Média (3o)\")"
   ]
  },
  {
   "cell_type": "code",
   "execution_count": 16,
   "metadata": {},
   "outputs": [],
   "source": [
    "lsc = r+(3*0.888)*o\n",
    "lm = r\n",
    "lic = r-(3*0.888)*o\n",
    "if lic < 0:\n",
    "    lic = 0"
   ]
  },
  {
   "cell_type": "code",
   "execution_count": 17,
   "metadata": {},
   "outputs": [
    {
     "data": {
      "text/plain": [
       "Text(0.5, 1.0, 'Limite de Controle da Amplitude (3o)')"
      ]
     },
     "execution_count": 17,
     "metadata": {},
     "output_type": "execute_result"
    },
    {
     "data": {
      "image/png": "[encoded data removed]",
      "text/plain": [
       "<Figure size 432x288 with 1 Axes>"
      ]
     },
     "metadata": {
      "needs_background": "light"
     },
     "output_type": "display_data"
    }
   ],
   "source": [
    "fig, ax = plt.subplots() \n",
    "\n",
    "\n",
    "plt.plot(np.arange(0,10),amplitudes,'go')\n",
    "plt.plot(np.arange(0,10),amplitudes,'k')\n",
    "\n",
    "ax.set_ylabel('X_barra')\n",
    "ax.set_xlabel('Amostras')\n",
    "\n",
    "plt.plot([lsc]*10, 'g--', label=f'LSC {round(lsc,2)}')\n",
    "plt.plot([r]*10, 'k--', label=f'LM {round(lm,2)}')\n",
    "plt.plot([lic]*10, 'b--', label=f'LIC {round(lic,2)}')\n",
    "\n",
    "ax.legend(loc='best', bbox_to_anchor=(1,1), shadow=True, ncol=1)\n",
    "\n",
    "plt.title(\"Limite de Controle da Amplitude (3o)\")"
   ]
  },
  {
   "cell_type": "code",
   "execution_count": 19,
   "metadata": {},
   "outputs": [],
   "source": [
    "new = pd.read_csv(\"RotorNewData.csv\")"
   ]
  },
  {
   "cell_type": "code",
   "execution_count": 20,
   "metadata": {},
   "outputs": [],
   "source": [
    "new = new['Salto de Lâmina'].str.replace(',','.').astype(float)"
   ]
  },
  {
   "cell_type": "code",
   "execution_count": 21,
   "metadata": {},
   "outputs": [],
   "source": [
    "dados = df['Salto de Lâmina'].sort_values()"
   ]
  },
  {
   "cell_type": "code",
   "execution_count": 22,
   "metadata": {},
   "outputs": [
    {
     "data": {
      "text/plain": [
       "array([30.7, 30.8, 30.9, 31. , 31.1, 31.2])"
      ]
     },
     "execution_count": 22,
     "metadata": {},
     "output_type": "execute_result"
    }
   ],
   "source": [
    "#Definindo os intervalos\n",
    "minimo = dados.min()\n",
    "maximo = dados.max()\n",
    "\n",
    "#Número de classes\n",
    "n = len(dados)\n",
    "i = round(1+3.3*np.log10(n))\n",
    "\n",
    "AA = round(maximo - minimo,2)\n",
    "h = round((AA/i),1)\n",
    "h=0.1\n",
    "\n",
    "intervalos = np.arange(minimo,maximo+0.1,step=h)\n",
    "intervalos"
   ]
  },
  {
   "cell_type": "code",
   "execution_count": 23,
   "metadata": {},
   "outputs": [
    {
     "data": {
      "image/png": "[encoded data removed]",
      "text/plain": [
       "<Figure size 432x288 with 1 Axes>"
      ]
     },
     "metadata": {
      "needs_background": "light"
     },
     "output_type": "display_data"
    },
    {
     "data": {
      "image/png": "[encoded data removed]",
      "text/plain": [
       "<Figure size 864x288 with 1 Axes>"
      ]
     },
     "metadata": {
      "needs_background": "light"
     },
     "output_type": "display_data"
    }
   ],
   "source": [
    "# Construindo o Boxplot e Histograma\n",
    "def salto(dados):\n",
    "    lista_intervalos = []\n",
    "    for i in range(len(intervalos)-1):\n",
    "        lista_intervalos.append(0)\n",
    "    \n",
    "    for c in range(len(lista_intervalos)):\n",
    "        for i in range(n):\n",
    "                if dados[i] >= intervalos[c] and dados[i] < intervalos[c+1]:\n",
    "                    lista_intervalos[c] +=1\n",
    "                    \n",
    "    lista_classes = []\n",
    "    for i in range(len(lista_intervalos)):\n",
    "        lista_classes.append(str(round(intervalos[i],2)) + '-' + str(round(intervalos[i+1],2)))\n",
    "        \n",
    "    fig, ax = plt.subplots(figsize=(12,4))\n",
    "    ax.grid(zorder=0)\n",
    "    plt.barh(lista_classes, lista_intervalos)\n",
    "     \n",
    "plt.boxplot(dados,vert=True)\n",
    "\n",
    "salto(dados)"
   ]
  },
  {
   "cell_type": "code",
   "execution_count": null,
   "metadata": {},
   "outputs": [],
   "source": []
  },
  {
   "cell_type": "code",
   "execution_count": 24,
   "metadata": {},
   "outputs": [
    {
     "data": {
      "text/plain": [
       "Text(0.5, 1.0, 'Limite de Controle da Média (3o)')"
      ]
     },
     "execution_count": 24,
     "metadata": {},
     "output_type": "execute_result"
    },
    {
     "data": {
      "image/png": "[encoded data removed]",
      "text/plain": [
       "<Figure size 432x288 with 1 Axes>"
      ]
     },
     "metadata": {
      "needs_background": "light"
     },
     "output_type": "display_data"
    }
   ],
   "source": [
    "fig, ax = plt.subplots() \n",
    "\n",
    "plt.plot(np.arange(0,10),medias,'go')\n",
    "plt.plot(np.arange(0,10),medias,'k')\n",
    "\n",
    "ax.set_ylabel('X_barra')\n",
    "ax.set_xlabel('Amostras')\n",
    "\n",
    "plt.plot([lsc]*10, 'g--', label=f'LSC {34.2}')\n",
    "plt.plot([x_barra]*10, 'k--', label=f'LM {round(x_barra,2)}')\n",
    "plt.plot([lic]*10, 'b--', label=f'LIC {round(lic,2)}')\n",
    "\n",
    "ax.legend(loc='best', bbox_to_anchor=(1,1), shadow=True, ncol=1)\n",
    "\n",
    "plt.title(\"Limite de Controle da Média (3o)\")"
   ]
  },
  {
   "cell_type": "code",
   "execution_count": null,
   "metadata": {},
   "outputs": [],
   "source": []
  }
 ],
 "metadata": {
  "kernelspec": {
   "display_name": "Python 3 (ipykernel)",
   "language": "python",
   "name": "python3"
  },
  "language_info": {
   "codemirror_mode": {
    "name": "ipython",
    "version": 3
   },
   "file_extension": ".py",
   "mimetype": "text/x-python",
   "name": "python",
   "nbconvert_exporter": "python",
   "pygments_lexer": "ipython3",
   "version": "3.9.7"
  }
 },
 "nbformat": 4,
 "nbformat_minor": 4
}
